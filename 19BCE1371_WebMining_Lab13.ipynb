{
 "cells": [
  {
   "cell_type": "markdown",
   "id": "f49f4a4f",
   "metadata": {},
   "source": [
    "# Name- Sangramjit Hazarika\n",
    "# Registration Number- 19BCE1371\n",
    "# Lab-13"
   ]
  },
  {
   "cell_type": "markdown",
   "id": "b3e2696e",
   "metadata": {},
   "source": [
    "### Q) Implement IP Address + Agent method of user identification and all three sessionaization heuristics for web server logs."
   ]
  },
  {
   "cell_type": "markdown",
   "id": "039b044c",
   "metadata": {},
   "source": [
    "#### Importing Libraries"
   ]
  },
  {
   "cell_type": "code",
   "execution_count": 1,
   "id": "22695b8b",
   "metadata": {},
   "outputs": [],
   "source": [
    "import numpy as nm\n",
    "import matplotlib.pyplot as mtp\n",
    "import pandas as pd"
   ]
  },
  {
   "cell_type": "code",
   "execution_count": 2,
   "id": "37c639d0",
   "metadata": {},
   "outputs": [
    {
     "data": {
      "text/html": [
       "<div>\n",
       "<style scoped>\n",
       "    .dataframe tbody tr th:only-of-type {\n",
       "        vertical-align: middle;\n",
       "    }\n",
       "\n",
       "    .dataframe tbody tr th {\n",
       "        vertical-align: top;\n",
       "    }\n",
       "\n",
       "    .dataframe thead th {\n",
       "        text-align: right;\n",
       "    }\n",
       "</style>\n",
       "<table border=\"1\" class=\"dataframe\">\n",
       "  <thead>\n",
       "    <tr style=\"text-align: right;\">\n",
       "      <th></th>\n",
       "      <th>Time</th>\n",
       "      <th>IP</th>\n",
       "      <th>URL</th>\n",
       "      <th>Ref</th>\n",
       "      <th>Agent</th>\n",
       "    </tr>\n",
       "  </thead>\n",
       "  <tbody>\n",
       "    <tr>\n",
       "      <th>0</th>\n",
       "      <td>00:01:00</td>\n",
       "      <td>1.2.3.4</td>\n",
       "      <td>A</td>\n",
       "      <td>-</td>\n",
       "      <td>IE5;Win2k</td>\n",
       "    </tr>\n",
       "    <tr>\n",
       "      <th>1</th>\n",
       "      <td>00:09:00</td>\n",
       "      <td>1.2.3.4</td>\n",
       "      <td>B</td>\n",
       "      <td>A</td>\n",
       "      <td>IE5;Win2k</td>\n",
       "    </tr>\n",
       "    <tr>\n",
       "      <th>2</th>\n",
       "      <td>00:10:00</td>\n",
       "      <td>2.3.4.5</td>\n",
       "      <td>C</td>\n",
       "      <td>-</td>\n",
       "      <td>IE56;WinXP;SP1</td>\n",
       "    </tr>\n",
       "    <tr>\n",
       "      <th>3</th>\n",
       "      <td>00:12:00</td>\n",
       "      <td>2.3.4.5</td>\n",
       "      <td>B</td>\n",
       "      <td>C</td>\n",
       "      <td>IE56;WinXP;SP1</td>\n",
       "    </tr>\n",
       "    <tr>\n",
       "      <th>4</th>\n",
       "      <td>00:15:00</td>\n",
       "      <td>2.3.4.5</td>\n",
       "      <td>E</td>\n",
       "      <td>C</td>\n",
       "      <td>IE56;WinXP;SP1</td>\n",
       "    </tr>\n",
       "    <tr>\n",
       "      <th>5</th>\n",
       "      <td>00:19:00</td>\n",
       "      <td>1.2.3.4</td>\n",
       "      <td>C</td>\n",
       "      <td>A</td>\n",
       "      <td>IE5;Win2k</td>\n",
       "    </tr>\n",
       "    <tr>\n",
       "      <th>6</th>\n",
       "      <td>00:22:00</td>\n",
       "      <td>2.3.4.5</td>\n",
       "      <td>D</td>\n",
       "      <td>B</td>\n",
       "      <td>IE56;WinXP;SP1</td>\n",
       "    </tr>\n",
       "    <tr>\n",
       "      <th>7</th>\n",
       "      <td>00:22:00</td>\n",
       "      <td>1.2.3.4</td>\n",
       "      <td>A</td>\n",
       "      <td>-</td>\n",
       "      <td>IE56;WinXP;SP2</td>\n",
       "    </tr>\n",
       "    <tr>\n",
       "      <th>8</th>\n",
       "      <td>00:25:00</td>\n",
       "      <td>1.2.3.4</td>\n",
       "      <td>E</td>\n",
       "      <td>C</td>\n",
       "      <td>IE5;Win2k</td>\n",
       "    </tr>\n",
       "    <tr>\n",
       "      <th>9</th>\n",
       "      <td>00:25:00</td>\n",
       "      <td>1.2.3.4</td>\n",
       "      <td>C</td>\n",
       "      <td>A</td>\n",
       "      <td>IE56;WinXP;SP2</td>\n",
       "    </tr>\n",
       "    <tr>\n",
       "      <th>10</th>\n",
       "      <td>00:33:00</td>\n",
       "      <td>1.2.3.4</td>\n",
       "      <td>B</td>\n",
       "      <td>C</td>\n",
       "      <td>IE56;WinXP;SP2</td>\n",
       "    </tr>\n",
       "    <tr>\n",
       "      <th>11</th>\n",
       "      <td>00:58:00</td>\n",
       "      <td>1.2.3.4</td>\n",
       "      <td>D</td>\n",
       "      <td>B</td>\n",
       "      <td>IE56;WinXP;SP2</td>\n",
       "    </tr>\n",
       "    <tr>\n",
       "      <th>12</th>\n",
       "      <td>01:10:00</td>\n",
       "      <td>1.2.3.4</td>\n",
       "      <td>E</td>\n",
       "      <td>D</td>\n",
       "      <td>IE56;WinXP;SP2</td>\n",
       "    </tr>\n",
       "    <tr>\n",
       "      <th>13</th>\n",
       "      <td>01:15:00</td>\n",
       "      <td>1.2.3.4</td>\n",
       "      <td>A</td>\n",
       "      <td>-</td>\n",
       "      <td>IE5;Win2k</td>\n",
       "    </tr>\n",
       "    <tr>\n",
       "      <th>14</th>\n",
       "      <td>01:16:00</td>\n",
       "      <td>1.2.3.4</td>\n",
       "      <td>C</td>\n",
       "      <td>A</td>\n",
       "      <td>IE5;Win2k</td>\n",
       "    </tr>\n",
       "    <tr>\n",
       "      <th>15</th>\n",
       "      <td>01:17:00</td>\n",
       "      <td>1.2.3.4</td>\n",
       "      <td>F</td>\n",
       "      <td>C</td>\n",
       "      <td>IE56;WinXP;SP2</td>\n",
       "    </tr>\n",
       "    <tr>\n",
       "      <th>16</th>\n",
       "      <td>01:26:00</td>\n",
       "      <td>1.2.3.4</td>\n",
       "      <td>F</td>\n",
       "      <td>C</td>\n",
       "      <td>IE5;Win2k</td>\n",
       "    </tr>\n",
       "    <tr>\n",
       "      <th>17</th>\n",
       "      <td>01:30:00</td>\n",
       "      <td>1.2.3.4</td>\n",
       "      <td>B</td>\n",
       "      <td>A</td>\n",
       "      <td>IE5;Win2k</td>\n",
       "    </tr>\n",
       "    <tr>\n",
       "      <th>18</th>\n",
       "      <td>01:36:00</td>\n",
       "      <td>1.2.3.4</td>\n",
       "      <td>D</td>\n",
       "      <td>B</td>\n",
       "      <td>IE5;Win2k</td>\n",
       "    </tr>\n",
       "  </tbody>\n",
       "</table>\n",
       "</div>"
      ],
      "text/plain": [
       "        Time       IP URL Ref           Agent\n",
       "0   00:01:00  1.2.3.4   A   -       IE5;Win2k\n",
       "1   00:09:00  1.2.3.4   B   A       IE5;Win2k\n",
       "2   00:10:00  2.3.4.5   C   -  IE56;WinXP;SP1\n",
       "3   00:12:00  2.3.4.5   B   C  IE56;WinXP;SP1\n",
       "4   00:15:00  2.3.4.5   E   C  IE56;WinXP;SP1\n",
       "5   00:19:00  1.2.3.4   C   A       IE5;Win2k\n",
       "6   00:22:00  2.3.4.5   D   B  IE56;WinXP;SP1\n",
       "7   00:22:00  1.2.3.4   A   -  IE56;WinXP;SP2\n",
       "8   00:25:00  1.2.3.4   E   C       IE5;Win2k\n",
       "9   00:25:00  1.2.3.4   C   A  IE56;WinXP;SP2\n",
       "10  00:33:00  1.2.3.4   B   C  IE56;WinXP;SP2\n",
       "11  00:58:00  1.2.3.4   D   B  IE56;WinXP;SP2\n",
       "12  01:10:00  1.2.3.4   E   D  IE56;WinXP;SP2\n",
       "13  01:15:00  1.2.3.4   A   -       IE5;Win2k\n",
       "14  01:16:00  1.2.3.4   C   A       IE5;Win2k\n",
       "15  01:17:00  1.2.3.4   F   C  IE56;WinXP;SP2\n",
       "16  01:26:00  1.2.3.4   F   C       IE5;Win2k\n",
       "17  01:30:00  1.2.3.4   B   A       IE5;Win2k\n",
       "18  01:36:00  1.2.3.4   D   B       IE5;Win2k"
      ]
     },
     "execution_count": 2,
     "metadata": {},
     "output_type": "execute_result"
    }
   ],
   "source": [
    "df = pd.read_excel('Lab13.xlsx')\n",
    "df"
   ]
  },
  {
   "cell_type": "code",
   "execution_count": 3,
   "id": "a0ae24bd",
   "metadata": {},
   "outputs": [
    {
     "data": {
      "text/plain": [
       "array(['1.2.3.4', '2.3.4.5'], dtype=object)"
      ]
     },
     "execution_count": 3,
     "metadata": {},
     "output_type": "execute_result"
    }
   ],
   "source": [
    "df['IP'].unique()"
   ]
  },
  {
   "cell_type": "code",
   "execution_count": 4,
   "id": "66a3bafd",
   "metadata": {},
   "outputs": [
    {
     "data": {
      "text/plain": [
       "array(['IE5;Win2k', 'IE56;WinXP;SP1', 'IE56;WinXP;SP2'], dtype=object)"
      ]
     },
     "execution_count": 4,
     "metadata": {},
     "output_type": "execute_result"
    }
   ],
   "source": [
    "df['Agent'].unique()"
   ]
  },
  {
   "cell_type": "markdown",
   "id": "e262d09e",
   "metadata": {},
   "source": [
    "#### Grouping IP and Agent column"
   ]
  },
  {
   "cell_type": "code",
   "execution_count": 5,
   "id": "8ee69e16",
   "metadata": {},
   "outputs": [
    {
     "data": {
      "text/plain": [
       "[('1.2.3.4', 'IE5;Win2k'),\n",
       " ('1.2.3.4', 'IE56;WinXP;SP1'),\n",
       " ('1.2.3.4', 'IE56;WinXP;SP2'),\n",
       " ('2.3.4.5', 'IE5;Win2k'),\n",
       " ('2.3.4.5', 'IE56;WinXP;SP1'),\n",
       " ('2.3.4.5', 'IE56;WinXP;SP2')]"
      ]
     },
     "execution_count": 5,
     "metadata": {},
     "output_type": "execute_result"
    }
   ],
   "source": [
    "IP_and_Agent = []\n",
    "for i in df['IP'].unique():\n",
    "    for j in df['Agent'].unique():\n",
    "        IP_and_Agent.append((i,j))\n",
    "IP_and_Agent"
   ]
  },
  {
   "cell_type": "markdown",
   "id": "5d43b7bd",
   "metadata": {},
   "source": [
    "#### Individual User Identification"
   ]
  },
  {
   "cell_type": "code",
   "execution_count": 6,
   "id": "517bfe7c",
   "metadata": {},
   "outputs": [
    {
     "name": "stdout",
     "output_type": "stream",
     "text": [
      "User 1 :\n",
      "        Time       IP URL Ref      Agent\n",
      "0   00:01:00  1.2.3.4   A   -  IE5;Win2k\n",
      "1   00:09:00  1.2.3.4   B   A  IE5;Win2k\n",
      "5   00:19:00  1.2.3.4   C   A  IE5;Win2k\n",
      "8   00:25:00  1.2.3.4   E   C  IE5;Win2k\n",
      "13  01:15:00  1.2.3.4   A   -  IE5;Win2k\n",
      "14  01:16:00  1.2.3.4   C   A  IE5;Win2k\n",
      "16  01:26:00  1.2.3.4   F   C  IE5;Win2k\n",
      "17  01:30:00  1.2.3.4   B   A  IE5;Win2k\n",
      "18  01:36:00  1.2.3.4   D   B  IE5;Win2k\n",
      "\n",
      "\n",
      "User 2 :\n",
      "        Time       IP URL Ref           Agent\n",
      "7   00:22:00  1.2.3.4   A   -  IE56;WinXP;SP2\n",
      "9   00:25:00  1.2.3.4   C   A  IE56;WinXP;SP2\n",
      "10  00:33:00  1.2.3.4   B   C  IE56;WinXP;SP2\n",
      "11  00:58:00  1.2.3.4   D   B  IE56;WinXP;SP2\n",
      "12  01:10:00  1.2.3.4   E   D  IE56;WinXP;SP2\n",
      "15  01:17:00  1.2.3.4   F   C  IE56;WinXP;SP2\n",
      "\n",
      "\n",
      "User 3 :\n",
      "       Time       IP URL Ref           Agent\n",
      "2  00:10:00  2.3.4.5   C   -  IE56;WinXP;SP1\n",
      "3  00:12:00  2.3.4.5   B   C  IE56;WinXP;SP1\n",
      "4  00:15:00  2.3.4.5   E   C  IE56;WinXP;SP1\n",
      "6  00:22:00  2.3.4.5   D   B  IE56;WinXP;SP1\n",
      "\n",
      "\n"
     ]
    }
   ],
   "source": [
    "user_count = 1\n",
    "\n",
    "for i in IP_and_Agent:\n",
    "    divide_user = df.loc[(df['IP']==i[0]) & (df['Agent']==i[1])]\n",
    "    if len(divide_user)>=1:\n",
    "        print('User',user_count,\":\")\n",
    "        print(divide_user)\n",
    "        user_count = user_count+1\n",
    "    print()"
   ]
  },
  {
   "cell_type": "markdown",
   "id": "decc8b36",
   "metadata": {},
   "source": [
    "#### Time Difference Function"
   ]
  },
  {
   "cell_type": "code",
   "execution_count": 7,
   "id": "1052f49a",
   "metadata": {},
   "outputs": [],
   "source": [
    "import datetime\n",
    "def time_diff(t1, t2):\n",
    "    arr1 = t1.split(\":\")\n",
    "    hr1 = int(arr1[0])\n",
    "    mint1 = int(arr1[1])\n",
    "    sec1 = int(arr1[2])\n",
    "    \n",
    "    arr2 = t2.split(\":\")\n",
    "    hr2 = int(arr2[0])\n",
    "    mint2 = int(arr2[1])\n",
    "    sec2 = int(arr2[2])\n",
    "    \n",
    "    a = datetime.datetime(2020, 11, 1, hr1, mint1, sec1)\n",
    "    b = datetime.datetime(2020, 11, 1, hr2, mint2, sec2)\n",
    "    \n",
    "    diff = b - a\n",
    "    diff_in_seconds = diff.total_seconds()\n",
    "    diff_in_minutes = diff_in_seconds/60\n",
    "    return diff_in_minutes "
   ]
  },
  {
   "cell_type": "code",
   "execution_count": 8,
   "id": "abb36a62",
   "metadata": {},
   "outputs": [
    {
     "data": {
      "text/plain": [
       "9.0"
      ]
     },
     "execution_count": 8,
     "metadata": {},
     "output_type": "execute_result"
    }
   ],
   "source": [
    "x = time_diff(str(df.iloc[0,0]),str(df.iloc[2,0]))\n",
    "x"
   ]
  },
  {
   "cell_type": "markdown",
   "id": "28810444",
   "metadata": {},
   "source": [
    "### Sessionization - h1 heuristics"
   ]
  },
  {
   "cell_type": "code",
   "execution_count": 9,
   "id": "7fb2e7f9",
   "metadata": {},
   "outputs": [],
   "source": [
    "theta = 30 # theta for h1 heuristic is 30 Minutes (assumed)"
   ]
  },
  {
   "cell_type": "code",
   "execution_count": 10,
   "id": "f84d0095",
   "metadata": {},
   "outputs": [],
   "source": [
    "def h1_heuristic_sessionization(df,user_count):\n",
    "    j=1\n",
    "    start_time = df.iloc[0,0]\n",
    "    df_session = pd.DataFrame()\n",
    "    for i in range(df.shape[0]):\n",
    "        if(time_diff(str(start_time),str(df.iloc[i,0]))<=theta):\n",
    "            df_session = df_session.append(df.iloc[i:i+1,:])\n",
    "        else:\n",
    "            print(\"Session \",j,\" for User \",user_count,\":\")\n",
    "            print(df_session)\n",
    "            print()\n",
    "            start_time = df.iloc[i,0]\n",
    "            df_session = pd.DataFrame()\n",
    "            df_session = df_session.append(df.iloc[i:i+1,:])\n",
    "            j=j+1\n",
    "    print(\"Session \",j,\" for User \",user_count,\": \")\n",
    "    print(df_session)\n",
    "    print()"
   ]
  },
  {
   "cell_type": "code",
   "execution_count": 11,
   "id": "b4b9fff5",
   "metadata": {},
   "outputs": [
    {
     "name": "stdout",
     "output_type": "stream",
     "text": [
      "User 1 :\n",
      "        Time       IP URL Ref      Agent\n",
      "0   00:01:00  1.2.3.4   A   -  IE5;Win2k\n",
      "1   00:09:00  1.2.3.4   B   A  IE5;Win2k\n",
      "5   00:19:00  1.2.3.4   C   A  IE5;Win2k\n",
      "8   00:25:00  1.2.3.4   E   C  IE5;Win2k\n",
      "13  01:15:00  1.2.3.4   A   -  IE5;Win2k\n",
      "14  01:16:00  1.2.3.4   C   A  IE5;Win2k\n",
      "16  01:26:00  1.2.3.4   F   C  IE5;Win2k\n",
      "17  01:30:00  1.2.3.4   B   A  IE5;Win2k\n",
      "18  01:36:00  1.2.3.4   D   B  IE5;Win2k\n",
      "\n",
      "Session  1  for User  1 :\n",
      "       Time       IP URL Ref      Agent\n",
      "0  00:01:00  1.2.3.4   A   -  IE5;Win2k\n",
      "1  00:09:00  1.2.3.4   B   A  IE5;Win2k\n",
      "5  00:19:00  1.2.3.4   C   A  IE5;Win2k\n",
      "8  00:25:00  1.2.3.4   E   C  IE5;Win2k\n",
      "\n",
      "Session  2  for User  1 : \n",
      "        Time       IP URL Ref      Agent\n",
      "13  01:15:00  1.2.3.4   A   -  IE5;Win2k\n",
      "14  01:16:00  1.2.3.4   C   A  IE5;Win2k\n",
      "16  01:26:00  1.2.3.4   F   C  IE5;Win2k\n",
      "17  01:30:00  1.2.3.4   B   A  IE5;Win2k\n",
      "18  01:36:00  1.2.3.4   D   B  IE5;Win2k\n",
      "\n",
      "\n",
      "User 2 :\n",
      "        Time       IP URL Ref           Agent\n",
      "7   00:22:00  1.2.3.4   A   -  IE56;WinXP;SP2\n",
      "9   00:25:00  1.2.3.4   C   A  IE56;WinXP;SP2\n",
      "10  00:33:00  1.2.3.4   B   C  IE56;WinXP;SP2\n",
      "11  00:58:00  1.2.3.4   D   B  IE56;WinXP;SP2\n",
      "12  01:10:00  1.2.3.4   E   D  IE56;WinXP;SP2\n",
      "15  01:17:00  1.2.3.4   F   C  IE56;WinXP;SP2\n",
      "\n",
      "Session  1  for User  2 :\n",
      "        Time       IP URL Ref           Agent\n",
      "7   00:22:00  1.2.3.4   A   -  IE56;WinXP;SP2\n",
      "9   00:25:00  1.2.3.4   C   A  IE56;WinXP;SP2\n",
      "10  00:33:00  1.2.3.4   B   C  IE56;WinXP;SP2\n",
      "\n",
      "Session  2  for User  2 : \n",
      "        Time       IP URL Ref           Agent\n",
      "11  00:58:00  1.2.3.4   D   B  IE56;WinXP;SP2\n",
      "12  01:10:00  1.2.3.4   E   D  IE56;WinXP;SP2\n",
      "15  01:17:00  1.2.3.4   F   C  IE56;WinXP;SP2\n",
      "\n",
      "\n",
      "User 3 :\n",
      "       Time       IP URL Ref           Agent\n",
      "2  00:10:00  2.3.4.5   C   -  IE56;WinXP;SP1\n",
      "3  00:12:00  2.3.4.5   B   C  IE56;WinXP;SP1\n",
      "4  00:15:00  2.3.4.5   E   C  IE56;WinXP;SP1\n",
      "6  00:22:00  2.3.4.5   D   B  IE56;WinXP;SP1\n",
      "\n",
      "Session  1  for User  3 : \n",
      "       Time       IP URL Ref           Agent\n",
      "2  00:10:00  2.3.4.5   C   -  IE56;WinXP;SP1\n",
      "3  00:12:00  2.3.4.5   B   C  IE56;WinXP;SP1\n",
      "4  00:15:00  2.3.4.5   E   C  IE56;WinXP;SP1\n",
      "6  00:22:00  2.3.4.5   D   B  IE56;WinXP;SP1\n",
      "\n",
      "\n"
     ]
    }
   ],
   "source": [
    "user_count = 1\n",
    "\n",
    "for i in IP_and_Agent:\n",
    "    divide_user = df.loc[(df['IP']==i[0]) & (df['Agent']==i[1])]\n",
    "    if len(divide_user)>=1:\n",
    "        print('User',user_count,\":\")\n",
    "        print(divide_user)\n",
    "        print()\n",
    "        h1_heuristic_sessionization(divide_user,user_count)\n",
    "        user_count = user_count+1\n",
    "        print()"
   ]
  },
  {
   "cell_type": "code",
   "execution_count": null,
   "id": "f6fba6ac",
   "metadata": {},
   "outputs": [],
   "source": []
  },
  {
   "cell_type": "markdown",
   "id": "c232f14c",
   "metadata": {},
   "source": [
    "### Sessionization - h2 heuristics"
   ]
  },
  {
   "cell_type": "code",
   "execution_count": 12,
   "id": "7f111c57",
   "metadata": {},
   "outputs": [],
   "source": [
    "delta = 10 # delta for h2 heuristic is 10 Minutes (assumed)"
   ]
  },
  {
   "cell_type": "code",
   "execution_count": 13,
   "id": "d716a524",
   "metadata": {},
   "outputs": [],
   "source": [
    "def h2_heuristic_sessionization(df,user_count):\n",
    "    j=1\n",
    "    df_session = pd.DataFrame()\n",
    "    df_session = df_session.append(df.iloc[0:1,:])\n",
    "    for i in range(1, df.shape[0]):\n",
    "        if(time_diff(str(df.iloc[i-1,0]),str(df.iloc[i,0]))<=delta):\n",
    "            df_session = df_session.append(df.iloc[i:i+1,:])\n",
    "        else:\n",
    "            print(\"Session \",j,\" for User \",user_count,\":\")\n",
    "            print(df_session)\n",
    "            print()\n",
    "            start_time = df.iloc[i,0]\n",
    "            df_session = pd.DataFrame()\n",
    "            df_session = df_session.append(df.iloc[i:i+1,:])\n",
    "            j=j+1\n",
    "    print(\"Session \",j,\" for User \",user_count,\": \")\n",
    "    print(df_session)\n",
    "    print()"
   ]
  },
  {
   "cell_type": "code",
   "execution_count": 14,
   "id": "2d957f60",
   "metadata": {},
   "outputs": [
    {
     "name": "stdout",
     "output_type": "stream",
     "text": [
      "User 1 :\n",
      "        Time       IP URL Ref      Agent\n",
      "0   00:01:00  1.2.3.4   A   -  IE5;Win2k\n",
      "1   00:09:00  1.2.3.4   B   A  IE5;Win2k\n",
      "5   00:19:00  1.2.3.4   C   A  IE5;Win2k\n",
      "8   00:25:00  1.2.3.4   E   C  IE5;Win2k\n",
      "13  01:15:00  1.2.3.4   A   -  IE5;Win2k\n",
      "14  01:16:00  1.2.3.4   C   A  IE5;Win2k\n",
      "16  01:26:00  1.2.3.4   F   C  IE5;Win2k\n",
      "17  01:30:00  1.2.3.4   B   A  IE5;Win2k\n",
      "18  01:36:00  1.2.3.4   D   B  IE5;Win2k\n",
      "\n",
      "Session  1  for User  1 :\n",
      "       Time       IP URL Ref      Agent\n",
      "0  00:01:00  1.2.3.4   A   -  IE5;Win2k\n",
      "1  00:09:00  1.2.3.4   B   A  IE5;Win2k\n",
      "5  00:19:00  1.2.3.4   C   A  IE5;Win2k\n",
      "8  00:25:00  1.2.3.4   E   C  IE5;Win2k\n",
      "\n",
      "Session  2  for User  1 : \n",
      "        Time       IP URL Ref      Agent\n",
      "13  01:15:00  1.2.3.4   A   -  IE5;Win2k\n",
      "14  01:16:00  1.2.3.4   C   A  IE5;Win2k\n",
      "16  01:26:00  1.2.3.4   F   C  IE5;Win2k\n",
      "17  01:30:00  1.2.3.4   B   A  IE5;Win2k\n",
      "18  01:36:00  1.2.3.4   D   B  IE5;Win2k\n",
      "\n",
      "\n",
      "User 2 :\n",
      "        Time       IP URL Ref           Agent\n",
      "7   00:22:00  1.2.3.4   A   -  IE56;WinXP;SP2\n",
      "9   00:25:00  1.2.3.4   C   A  IE56;WinXP;SP2\n",
      "10  00:33:00  1.2.3.4   B   C  IE56;WinXP;SP2\n",
      "11  00:58:00  1.2.3.4   D   B  IE56;WinXP;SP2\n",
      "12  01:10:00  1.2.3.4   E   D  IE56;WinXP;SP2\n",
      "15  01:17:00  1.2.3.4   F   C  IE56;WinXP;SP2\n",
      "\n",
      "Session  1  for User  2 :\n",
      "        Time       IP URL Ref           Agent\n",
      "7   00:22:00  1.2.3.4   A   -  IE56;WinXP;SP2\n",
      "9   00:25:00  1.2.3.4   C   A  IE56;WinXP;SP2\n",
      "10  00:33:00  1.2.3.4   B   C  IE56;WinXP;SP2\n",
      "\n",
      "Session  2  for User  2 :\n",
      "        Time       IP URL Ref           Agent\n",
      "11  00:58:00  1.2.3.4   D   B  IE56;WinXP;SP2\n",
      "\n",
      "Session  3  for User  2 : \n",
      "        Time       IP URL Ref           Agent\n",
      "12  01:10:00  1.2.3.4   E   D  IE56;WinXP;SP2\n",
      "15  01:17:00  1.2.3.4   F   C  IE56;WinXP;SP2\n",
      "\n",
      "\n",
      "User 3 :\n",
      "       Time       IP URL Ref           Agent\n",
      "2  00:10:00  2.3.4.5   C   -  IE56;WinXP;SP1\n",
      "3  00:12:00  2.3.4.5   B   C  IE56;WinXP;SP1\n",
      "4  00:15:00  2.3.4.5   E   C  IE56;WinXP;SP1\n",
      "6  00:22:00  2.3.4.5   D   B  IE56;WinXP;SP1\n",
      "\n",
      "Session  1  for User  3 : \n",
      "       Time       IP URL Ref           Agent\n",
      "2  00:10:00  2.3.4.5   C   -  IE56;WinXP;SP1\n",
      "3  00:12:00  2.3.4.5   B   C  IE56;WinXP;SP1\n",
      "4  00:15:00  2.3.4.5   E   C  IE56;WinXP;SP1\n",
      "6  00:22:00  2.3.4.5   D   B  IE56;WinXP;SP1\n",
      "\n",
      "\n"
     ]
    }
   ],
   "source": [
    "user_count = 1\n",
    "\n",
    "for i in IP_and_Agent:\n",
    "    divide_user = df.loc[(df['IP']==i[0]) & (df['Agent']==i[1])]\n",
    "    if len(divide_user)>=1:\n",
    "        print('User',user_count,\":\")\n",
    "        print(divide_user)\n",
    "        print()\n",
    "        h2_heuristic_sessionization(divide_user,user_count)\n",
    "        user_count = user_count+1\n",
    "        print()"
   ]
  },
  {
   "cell_type": "code",
   "execution_count": null,
   "id": "97949e81",
   "metadata": {},
   "outputs": [],
   "source": []
  },
  {
   "cell_type": "markdown",
   "id": "c06deaa9",
   "metadata": {},
   "source": [
    "### Sessionization - href"
   ]
  },
  {
   "cell_type": "code",
   "execution_count": 15,
   "id": "af2a12f2",
   "metadata": {},
   "outputs": [],
   "source": [
    "def h3_heuristic_sessionization(df,user_count):\n",
    "    l = []\n",
    "    j = 1\n",
    "    dictt = {}\n",
    "    \n",
    "    for i in range(0, df.shape[0]):\n",
    "        if df.iloc[i,3]==\"-\":\n",
    "            df_session = pd.DataFrame()\n",
    "            df_session = df_session.append(df.iloc[i:i+1,:])\n",
    "            l.append(df_session)\n",
    "            dictt[j] = []\n",
    "            dictt[j].append(df.iloc[i,2])\n",
    "            j = j+1\n",
    "        else:\n",
    "            count = 0\n",
    "            position = 0\n",
    "            for ind in dictt:\n",
    "                if (df.iloc[i,3] in dictt[ind]):\n",
    "                    count = count + 1\n",
    "                    position = int(ind)\n",
    "            if count==0:\n",
    "                df_session = pd.DataFrame()\n",
    "                df_session = df_session.append(df.iloc[i:i+1,:])\n",
    "                l.append(df_session)\n",
    "                dictt[j] = []\n",
    "                dictt[j].append(df.iloc[i,2])\n",
    "                j = j+1\n",
    "            else:\n",
    "                l[position-1] = l[position-1].append(df.iloc[i:i+1,:])\n",
    "                dictt[position].append(df.iloc[i,2])\n",
    "                \n",
    "    j = 1\n",
    "    for i in l:\n",
    "        print(\"Session \",j,\" for User \",user_count)\n",
    "        print(i)\n",
    "        j=j+1\n",
    "                \n",
    "            "
   ]
  },
  {
   "cell_type": "code",
   "execution_count": 16,
   "id": "602bee30",
   "metadata": {},
   "outputs": [
    {
     "name": "stdout",
     "output_type": "stream",
     "text": [
      "User 1 :\n",
      "        Time       IP URL Ref      Agent\n",
      "0   00:01:00  1.2.3.4   A   -  IE5;Win2k\n",
      "1   00:09:00  1.2.3.4   B   A  IE5;Win2k\n",
      "5   00:19:00  1.2.3.4   C   A  IE5;Win2k\n",
      "8   00:25:00  1.2.3.4   E   C  IE5;Win2k\n",
      "13  01:15:00  1.2.3.4   A   -  IE5;Win2k\n",
      "14  01:16:00  1.2.3.4   C   A  IE5;Win2k\n",
      "16  01:26:00  1.2.3.4   F   C  IE5;Win2k\n",
      "17  01:30:00  1.2.3.4   B   A  IE5;Win2k\n",
      "18  01:36:00  1.2.3.4   D   B  IE5;Win2k\n",
      "\n",
      "Session  1  for User  1\n",
      "       Time       IP URL Ref      Agent\n",
      "0  00:01:00  1.2.3.4   A   -  IE5;Win2k\n",
      "1  00:09:00  1.2.3.4   B   A  IE5;Win2k\n",
      "5  00:19:00  1.2.3.4   C   A  IE5;Win2k\n",
      "8  00:25:00  1.2.3.4   E   C  IE5;Win2k\n",
      "Session  2  for User  1\n",
      "        Time       IP URL Ref      Agent\n",
      "13  01:15:00  1.2.3.4   A   -  IE5;Win2k\n",
      "14  01:16:00  1.2.3.4   C   A  IE5;Win2k\n",
      "16  01:26:00  1.2.3.4   F   C  IE5;Win2k\n",
      "17  01:30:00  1.2.3.4   B   A  IE5;Win2k\n",
      "18  01:36:00  1.2.3.4   D   B  IE5;Win2k\n",
      "\n",
      "User 2 :\n",
      "        Time       IP URL Ref           Agent\n",
      "7   00:22:00  1.2.3.4   A   -  IE56;WinXP;SP2\n",
      "9   00:25:00  1.2.3.4   C   A  IE56;WinXP;SP2\n",
      "10  00:33:00  1.2.3.4   B   C  IE56;WinXP;SP2\n",
      "11  00:58:00  1.2.3.4   D   B  IE56;WinXP;SP2\n",
      "12  01:10:00  1.2.3.4   E   D  IE56;WinXP;SP2\n",
      "15  01:17:00  1.2.3.4   F   C  IE56;WinXP;SP2\n",
      "\n",
      "Session  1  for User  2\n",
      "        Time       IP URL Ref           Agent\n",
      "7   00:22:00  1.2.3.4   A   -  IE56;WinXP;SP2\n",
      "9   00:25:00  1.2.3.4   C   A  IE56;WinXP;SP2\n",
      "10  00:33:00  1.2.3.4   B   C  IE56;WinXP;SP2\n",
      "11  00:58:00  1.2.3.4   D   B  IE56;WinXP;SP2\n",
      "12  01:10:00  1.2.3.4   E   D  IE56;WinXP;SP2\n",
      "15  01:17:00  1.2.3.4   F   C  IE56;WinXP;SP2\n",
      "\n",
      "User 3 :\n",
      "       Time       IP URL Ref           Agent\n",
      "2  00:10:00  2.3.4.5   C   -  IE56;WinXP;SP1\n",
      "3  00:12:00  2.3.4.5   B   C  IE56;WinXP;SP1\n",
      "4  00:15:00  2.3.4.5   E   C  IE56;WinXP;SP1\n",
      "6  00:22:00  2.3.4.5   D   B  IE56;WinXP;SP1\n",
      "\n",
      "Session  1  for User  3\n",
      "       Time       IP URL Ref           Agent\n",
      "2  00:10:00  2.3.4.5   C   -  IE56;WinXP;SP1\n",
      "3  00:12:00  2.3.4.5   B   C  IE56;WinXP;SP1\n",
      "4  00:15:00  2.3.4.5   E   C  IE56;WinXP;SP1\n",
      "6  00:22:00  2.3.4.5   D   B  IE56;WinXP;SP1\n",
      "\n"
     ]
    }
   ],
   "source": [
    "user_count = 1\n",
    "\n",
    "for i in IP_and_Agent:\n",
    "    divide_user = df.loc[(df['IP']==i[0]) & (df['Agent']==i[1])]\n",
    "    if len(divide_user)>=1:\n",
    "        print('User',user_count,\":\")\n",
    "        print(divide_user)\n",
    "        print()\n",
    "        h3_heuristic_sessionization(divide_user,user_count)\n",
    "        user_count = user_count+1\n",
    "        print()"
   ]
  },
  {
   "cell_type": "markdown",
   "id": "ce9f1ab1",
   "metadata": {},
   "source": [
    "### -----------------------------------------------------Thank you Sir------------------------------------------------------------"
   ]
  },
  {
   "cell_type": "code",
   "execution_count": null,
   "id": "ade55934",
   "metadata": {},
   "outputs": [],
   "source": []
  }
 ],
 "metadata": {
  "kernelspec": {
   "display_name": "Python 3 (ipykernel)",
   "language": "python",
   "name": "python3"
  },
  "language_info": {
   "codemirror_mode": {
    "name": "ipython",
    "version": 3
   },
   "file_extension": ".py",
   "mimetype": "text/x-python",
   "name": "python",
   "nbconvert_exporter": "python",
   "pygments_lexer": "ipython3",
   "version": "3.8.11"
  }
 },
 "nbformat": 4,
 "nbformat_minor": 5
}
